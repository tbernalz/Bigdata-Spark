{
  "nbformat": 4,
  "nbformat_minor": 0,
  "metadata": {
    "colab": {
      "provenance": []
    },
    "kernelspec": {
      "name": "python3",
      "display_name": "Python 3"
    },
    "language_info": {
      "name": "python"
    }
  },
  "cells": [
    {
      "cell_type": "markdown",
      "source": [
        "# Universidad EAFIT\n",
        "\n",
        "## ST0263 - Tópicos Especiales en Telemática, 2024-1\n",
        "\n",
        "\n",
        "\n",
        "*   **Estudiante**: Tomás Bernal Zuluaga - tbernalz@eafit.edu.co\n",
        "*   **Profesor**: Edwin Montoya - emontoya@eafit.edu.co\n",
        "\n",
        "\n",
        "---\n",
        "\n",
        "## Proyecto 3 - Spark con Notebooks y PySpark\n",
        "En este proyecto se explorarán y analizarán los datos de casos positivos de COVID-19 en Colombia utilizando PySpark y Jupyter Notebooks. El objetivo es realizar un análisis exploratorio de los datos, responder preguntas de negocio específicas y almacenar los datos procesados tanto en AWS S3 como en Google Drive. El proyecto se desarrollará en dos plataformas: AWS-EMR-JupyterHub y Google Colab.\n",
        "\n",
        "\n",
        "## 1. Almacenar datos en AWS S3 y en google drive\n",
        "\n",
        "### Configuración en Google Colab de Spark y PySpark\n",
        "\n",
        "\n",
        "\n",
        "\n"
      ],
      "metadata": {
        "id": "v6MdYx0kUQtr"
      }
    },
    {
      "cell_type": "code",
      "source": [
        "# Montar Google Drive\n",
        "from google.colab import drive\n",
        "drive.mount('/content/drive')"
      ],
      "metadata": {
        "id": "DmrfKFg8XAGt",
        "colab": {
          "base_uri": "https://localhost:8080/"
        },
        "outputId": "e9fac6ea-34ae-4509-b84d-68cd8e736b82"
      },
      "execution_count": 1,
      "outputs": [
        {
          "output_type": "stream",
          "name": "stdout",
          "text": [
            "Drive already mounted at /content/drive; to attempt to forcibly remount, call drive.mount(\"/content/drive\", force_remount=True).\n"
          ]
        }
      ]
    },
    {
      "cell_type": "code",
      "source": [
        "# Instalar Java y Spark en Google Colab\n",
        "!apt-get install openjdk-11-jdk-headless -qq > /dev/null\n",
        "!wget -q https://downloads.apache.org/spark/spark-3.5.1/spark-3.5.1-bin-hadoop3.tgz\n",
        "!tar xf spark-3.5.1-bin-hadoop3.tgz\n",
        "!pip install -q findspark"
      ],
      "metadata": {
        "id": "9ZZki9ZWYWEw"
      },
      "execution_count": 2,
      "outputs": []
    },
    {
      "cell_type": "code",
      "source": [
        "# Configuración del entorno de Java y Spark\n",
        "import os\n",
        "os.environ[\"JAVA_HOME\"] = \"/usr/lib/jvm/java-11-openjdk-amd64\"\n",
        "os.environ[\"SPARK_HOME\"] = \"/content/spark-3.5.1-bin-hadoop3\""
      ],
      "metadata": {
        "collapsed": true,
        "id": "sC8ma09RYl76"
      },
      "execution_count": 3,
      "outputs": []
    },
    {
      "cell_type": "markdown",
      "source": [
        "### Crear una Sesión de Spark con Configuraciones Adicionales"
      ],
      "metadata": {
        "id": "2c2nnLQphrrE"
      }
    },
    {
      "cell_type": "code",
      "source": [
        "# Configurar credenciales de AWS\n",
        "os.environ['AWS_ACCESS_KEY_ID'] = 'tu info aqui'\n",
        "os.environ['AWS_SECRET_ACCESS_KEY'] = 'tu info aqui'\n",
        "os.environ['AWS_SESSION_TOKEN'] = 'tu info aqui'\n",
        "\n",
        "# Inicialización de findspark con las configuraciones establecidas anteriormente\n",
        "import findspark\n",
        "findspark.init()\n",
        "from pyspark.sql import SparkSession\n",
        "\n",
        "# Detener cualquier sesión de Spark existente\n",
        "if 'spark' in globals():\n",
        "    spark.stop()\n",
        "\n",
        "# Crear una sesión de Spark con configuraciones adicionales para AWS S3\n",
        "spark = SparkSession.builder \\\n",
        "    .appName(\"spark_data_processing\")\\\n",
        "    .master(\"local[*]\")\\\n",
        "    .config(\"spark.driver.memory\",\"16G\")\\\n",
        "    .config(\"spark.driver.maxResultSize\", \"0\") \\\n",
        "    .config(\"spark.kryoserializer.buffer.max\", \"2000M\")\\\n",
        "    .config(\"spark.jars.packages\", \"com.amazonaws:aws-java-sdk:1.11.1034,org.apache.hadoop:hadoop-aws:3.3.4\")\\\n",
        "    .config('fs.s3a.access.key', os.environ[\"AWS_ACCESS_KEY_ID\"]) \\\n",
        "    .config('fs.s3a.secret.key', os.environ[\"AWS_SECRET_ACCESS_KEY\"]) \\\n",
        "    .config('fs.s3a.session.token', os.environ[\"AWS_SESSION_TOKEN\"]) \\\n",
        "    .config('fs.s3a.path.style.access', 'true') \\\n",
        "    .config('fs.s3a.impl', 'org.apache.hadoop.fs.s3a.S3AFileSystem') \\\n",
        "    .config('fs.s3a.endpoint', 's3.amazonaws.com') \\\n",
        "    .getOrCreate()\n",
        "\n",
        "sc = spark.sparkContext"
      ],
      "metadata": {
        "id": "tjN03ifghvQi"
      },
      "execution_count": 5,
      "outputs": []
    },
    {
      "cell_type": "markdown",
      "source": [
        "### Verificar la conexión con Spark"
      ],
      "metadata": {
        "id": "6GK3XaZfpLWg"
      }
    },
    {
      "cell_type": "code",
      "source": [
        "spark"
      ],
      "metadata": {
        "colab": {
          "base_uri": "https://localhost:8080/",
          "height": 222
        },
        "id": "dMhXWIoApVRD",
        "outputId": "dfdfd36a-f9d7-472d-93c2-c4a1fb3c7021"
      },
      "execution_count": 6,
      "outputs": [
        {
          "output_type": "execute_result",
          "data": {
            "text/plain": [
              "<pyspark.sql.session.SparkSession at 0x7bb053fa2770>"
            ],
            "text/html": [
              "\n",
              "            <div>\n",
              "                <p><b>SparkSession - in-memory</b></p>\n",
              "                \n",
              "        <div>\n",
              "            <p><b>SparkContext</b></p>\n",
              "\n",
              "            <p><a href=\"http://8f0ce5e773ce:4040\">Spark UI</a></p>\n",
              "\n",
              "            <dl>\n",
              "              <dt>Version</dt>\n",
              "                <dd><code>v3.5.1</code></dd>\n",
              "              <dt>Master</dt>\n",
              "                <dd><code>local[*]</code></dd>\n",
              "              <dt>AppName</dt>\n",
              "                <dd><code>spark_data_processing</code></dd>\n",
              "            </dl>\n",
              "        </div>\n",
              "        \n",
              "            </div>\n",
              "        "
            ]
          },
          "metadata": {},
          "execution_count": 6
        }
      ]
    },
    {
      "cell_type": "code",
      "source": [
        "sc"
      ],
      "metadata": {
        "colab": {
          "base_uri": "https://localhost:8080/",
          "height": 198
        },
        "id": "O75NVF7wpgwm",
        "outputId": "ce914962-308c-4ea6-892e-dc144aa3cbe5"
      },
      "execution_count": 7,
      "outputs": [
        {
          "output_type": "execute_result",
          "data": {
            "text/plain": [
              "<SparkContext master=local[*] appName=spark_data_processing>"
            ],
            "text/html": [
              "\n",
              "        <div>\n",
              "            <p><b>SparkContext</b></p>\n",
              "\n",
              "            <p><a href=\"http://8f0ce5e773ce:4040\">Spark UI</a></p>\n",
              "\n",
              "            <dl>\n",
              "              <dt>Version</dt>\n",
              "                <dd><code>v3.5.1</code></dd>\n",
              "              <dt>Master</dt>\n",
              "                <dd><code>local[*]</code></dd>\n",
              "              <dt>AppName</dt>\n",
              "                <dd><code>spark_data_processing</code></dd>\n",
              "            </dl>\n",
              "        </div>\n",
              "        "
            ]
          },
          "metadata": {},
          "execution_count": 7
        }
      ]
    },
    {
      "cell_type": "markdown",
      "source": [
        "### Cargar dataset desde Google Drive hacia Spark (se debe tener el dataset almacenado en drive)"
      ],
      "metadata": {
        "id": "f9eGkH3Yd72L"
      }
    },
    {
      "cell_type": "code",
      "source": [
        "# Guardar datos procesados en Google Drive\n",
        "df = spark.read.csv('/content/drive/MyDrive/dataset_covid_colombia/covid_colombia_data.csv', header=True, inferSchema=True)"
      ],
      "metadata": {
        "id": "uvrwrpGua7Jg"
      },
      "execution_count": null,
      "outputs": []
    },
    {
      "cell_type": "markdown",
      "source": [
        "### Cargar dataset desde AWS S3 hacia Spark (se debe tener el dataset almacenado en un bucket de AWS S3)"
      ],
      "metadata": {
        "id": "W0-CpmWwekR4"
      }
    },
    {
      "cell_type": "code",
      "source": [
        "# Guardar datos procesados en un bucket de S3\n",
        "df = spark.read.csv('s3a://tbernalz-p3/dataset_covid_colombia/covid_colombia_data.csv', header=True, inferSchema=True)"
      ],
      "metadata": {
        "id": "tnZLALfajNCp"
      },
      "execution_count": 8,
      "outputs": []
    },
    {
      "cell_type": "markdown",
      "source": [
        "## 2. Análisis Exploratorio de Datos\n",
        "2.1 Mostrar las columnas"
      ],
      "metadata": {
        "id": "uVePbTpmXRCJ"
      }
    },
    {
      "cell_type": "code",
      "source": [
        "df.columns"
      ],
      "metadata": {
        "id": "mHBDr810laGf",
        "colab": {
          "base_uri": "https://localhost:8080/"
        },
        "outputId": "f4969224-a9fa-42d8-d008-efb6817676e7"
      },
      "execution_count": 9,
      "outputs": [
        {
          "output_type": "execute_result",
          "data": {
            "text/plain": [
              "['fecha reporte web',\n",
              " 'ID de caso',\n",
              " 'Fecha de notificación',\n",
              " 'Código DIVIPOLA departamento',\n",
              " 'Nombre departamento',\n",
              " 'Código DIVIPOLA municipio',\n",
              " 'Nombre municipio',\n",
              " 'Edad',\n",
              " 'Unidad de medida de edad',\n",
              " 'Sexo',\n",
              " 'Tipo de contagio',\n",
              " 'Ubicación del caso',\n",
              " 'Estado',\n",
              " 'Código ISO del país',\n",
              " 'Nombre del país',\n",
              " 'Recuperado',\n",
              " 'Fecha de inicio de síntomas',\n",
              " 'Fecha de muerte',\n",
              " 'Fecha de diagnóstico',\n",
              " 'Fecha de recuperación',\n",
              " 'Tipo de recuperación',\n",
              " 'Pertenencia étnica',\n",
              " 'Nombre del grupo étnico']"
            ]
          },
          "metadata": {},
          "execution_count": 9
        }
      ]
    },
    {
      "cell_type": "markdown",
      "source": [
        "2.2 Mostrar los tipos de datos"
      ],
      "metadata": {
        "id": "nEuKP9L_mBW-"
      }
    },
    {
      "cell_type": "code",
      "source": [
        "df.printSchema()"
      ],
      "metadata": {
        "id": "zidEK2dsmINQ",
        "colab": {
          "base_uri": "https://localhost:8080/"
        },
        "outputId": "2e3feb1e-9206-4abc-d6b5-50d471dea90b",
        "collapsed": true
      },
      "execution_count": 10,
      "outputs": [
        {
          "output_type": "stream",
          "name": "stdout",
          "text": [
            "root\n",
            " |-- fecha reporte web: string (nullable = true)\n",
            " |-- ID de caso: integer (nullable = true)\n",
            " |-- Fecha de notificación: timestamp (nullable = true)\n",
            " |-- Código DIVIPOLA departamento: integer (nullable = true)\n",
            " |-- Nombre departamento: string (nullable = true)\n",
            " |-- Código DIVIPOLA municipio: integer (nullable = true)\n",
            " |-- Nombre municipio: string (nullable = true)\n",
            " |-- Edad: integer (nullable = true)\n",
            " |-- Unidad de medida de edad: integer (nullable = true)\n",
            " |-- Sexo: string (nullable = true)\n",
            " |-- Tipo de contagio: string (nullable = true)\n",
            " |-- Ubicación del caso: string (nullable = true)\n",
            " |-- Estado: string (nullable = true)\n",
            " |-- Código ISO del país: integer (nullable = true)\n",
            " |-- Nombre del país: string (nullable = true)\n",
            " |-- Recuperado: string (nullable = true)\n",
            " |-- Fecha de inicio de síntomas: timestamp (nullable = true)\n",
            " |-- Fecha de muerte: timestamp (nullable = true)\n",
            " |-- Fecha de diagnóstico: timestamp (nullable = true)\n",
            " |-- Fecha de recuperación: string (nullable = true)\n",
            " |-- Tipo de recuperación: string (nullable = true)\n",
            " |-- Pertenencia étnica: integer (nullable = true)\n",
            " |-- Nombre del grupo étnico: string (nullable = true)\n",
            "\n"
          ]
        }
      ]
    },
    {
      "cell_type": "markdown",
      "source": [
        "2.3 seleccionar algunas columnas"
      ],
      "metadata": {
        "id": "uoA22Vy5mJDV"
      }
    },
    {
      "cell_type": "code",
      "source": [
        "# Seleccionar columnas específicas\n",
        "df_selected = df.select('ID de caso', 'Nombre municipio', 'Edad', 'Estado', 'Fecha de inicio de síntomas')\n",
        "df_selected.show(5)\n",
        "\n"
      ],
      "metadata": {
        "id": "zOdHdz-7m7K9",
        "colab": {
          "base_uri": "https://localhost:8080/"
        },
        "outputId": "4d900659-08f7-4080-c7b7-5fd5628726d3"
      },
      "execution_count": 11,
      "outputs": [
        {
          "output_type": "stream",
          "name": "stdout",
          "text": [
            "+----------+----------------+----+---------+---------------------------+\n",
            "|ID de caso|Nombre municipio|Edad|   Estado|Fecha de inicio de síntomas|\n",
            "+----------+----------------+----+---------+---------------------------+\n",
            "|   1556979|            CALI|  67|     Leve|        2020-12-21 00:00:00|\n",
            "|   1556980|            CALI|  66|     Leve|        2020-12-07 00:00:00|\n",
            "|   1556981|            CALI|  68|     Leve|        2020-12-18 00:00:00|\n",
            "|   1556982|            CALI|  74|Fallecido|        2020-12-17 00:00:00|\n",
            "|   1556983|            CALI|  65|     Leve|        2020-12-21 00:00:00|\n",
            "+----------+----------------+----+---------+---------------------------+\n",
            "only showing top 5 rows\n",
            "\n"
          ]
        }
      ]
    },
    {
      "cell_type": "markdown",
      "source": [
        "2.4 Renombrar Columnas (esto se recomienda hacerlo para facilitar el procesamiento posterior)"
      ],
      "metadata": {
        "id": "cuPqv1N3mtsZ"
      }
    },
    {
      "cell_type": "code",
      "source": [
        "df_selected = df_selected.withColumnRenamed('ID de caso', 'id') \\\n",
        "                         .withColumnRenamed('Nombre municipio', 'city')\\\n",
        "                         .withColumnRenamed('Edad', 'age')\\\n",
        "                         .withColumnRenamed('Estado', 'state')\\\n",
        "                         .withColumnRenamed('Fecha de inicio de síntomas', 'symptom_onset_date')\n",
        "df_selected.show(5)\n"
      ],
      "metadata": {
        "id": "BWPsuEd6m7_x",
        "colab": {
          "base_uri": "https://localhost:8080/"
        },
        "outputId": "4e9c98b6-980f-4e1f-c5f2-7469cbb1db0b"
      },
      "execution_count": 12,
      "outputs": [
        {
          "output_type": "stream",
          "name": "stdout",
          "text": [
            "+-------+----+---+---------+-------------------+\n",
            "|     id|city|age|    state| symptom_onset_date|\n",
            "+-------+----+---+---------+-------------------+\n",
            "|1556979|CALI| 67|     Leve|2020-12-21 00:00:00|\n",
            "|1556980|CALI| 66|     Leve|2020-12-07 00:00:00|\n",
            "|1556981|CALI| 68|     Leve|2020-12-18 00:00:00|\n",
            "|1556982|CALI| 74|Fallecido|2020-12-17 00:00:00|\n",
            "|1556983|CALI| 65|     Leve|2020-12-21 00:00:00|\n",
            "+-------+----+---+---------+-------------------+\n",
            "only showing top 5 rows\n",
            "\n"
          ]
        }
      ]
    },
    {
      "cell_type": "markdown",
      "source": [
        "2.5 Agregar columnas"
      ],
      "metadata": {
        "id": "nRLrkZBAmvCu"
      }
    },
    {
      "cell_type": "code",
      "source": [
        "from pyspark.sql.functions import when\n",
        "\n",
        "# Agregar una nueva columna\n",
        "df = df.withColumn('edad_grupo',\n",
        "                                     when(df['Edad'] < 18, 'Niño')\n",
        "                                     .when((df['Edad'] >= 18) & (df['Edad'] < 45), 'Joven')\n",
        "                                     .when((df['Edad'] >= 45) & (df['Edad'] < 65), 'Adulto')\n",
        "                                     .otherwise('Adulto Mayor'))\n",
        "df.select('ID de caso', 'Edad','edad_grupo').show(5)"
      ],
      "metadata": {
        "id": "qn0mbvb6m87P",
        "colab": {
          "base_uri": "https://localhost:8080/"
        },
        "outputId": "06c21bed-8b05-4def-e323-c3f98533847c"
      },
      "execution_count": 13,
      "outputs": [
        {
          "output_type": "stream",
          "name": "stdout",
          "text": [
            "+----------+----+------------+\n",
            "|ID de caso|Edad|  edad_grupo|\n",
            "+----------+----+------------+\n",
            "|   1556979|  67|Adulto Mayor|\n",
            "|   1556980|  66|Adulto Mayor|\n",
            "|   1556981|  68|Adulto Mayor|\n",
            "|   1556982|  74|Adulto Mayor|\n",
            "|   1556983|  65|Adulto Mayor|\n",
            "+----------+----+------------+\n",
            "only showing top 5 rows\n",
            "\n"
          ]
        }
      ]
    },
    {
      "cell_type": "markdown",
      "source": [
        "2.6 Borrar columnas"
      ],
      "metadata": {
        "id": "3rvYI1cUmxpi"
      }
    },
    {
      "cell_type": "code",
      "source": [
        "# Borrar una columna\n",
        "df = df.drop('edad_grupo')"
      ],
      "metadata": {
        "id": "EpY0-5IDm9eP"
      },
      "execution_count": 14,
      "outputs": []
    },
    {
      "cell_type": "markdown",
      "source": [
        "2.7 Filtrar datos"
      ],
      "metadata": {
        "id": "5Rb-3d-Emz-k"
      }
    },
    {
      "cell_type": "code",
      "source": [
        "# Filtrar datos para casos activos\n",
        "df.filter(df['Nombre municipio'] == 'MEDELLIN').show(5)\n",
        "df.filter(df['Nombre municipio'] == 'ENVIGADO').show(5)"
      ],
      "metadata": {
        "id": "QscDAWstm920",
        "colab": {
          "base_uri": "https://localhost:8080/"
        },
        "outputId": "ac52cd6d-14fe-40dd-bfd1-a32403643767"
      },
      "execution_count": 15,
      "outputs": [
        {
          "output_type": "stream",
          "name": "stdout",
          "text": [
            "+-------------------+----------+---------------------+----------------------------+-------------------+-------------------------+----------------+----+------------------------+----+----------------+------------------+------+-------------------+---------------+----------+---------------------------+---------------+--------------------+---------------------+--------------------+------------------+-----------------------+\n",
            "|  fecha reporte web|ID de caso|Fecha de notificación|Código DIVIPOLA departamento|Nombre departamento|Código DIVIPOLA municipio|Nombre municipio|Edad|Unidad de medida de edad|Sexo|Tipo de contagio|Ubicación del caso|Estado|Código ISO del país|Nombre del país|Recuperado|Fecha de inicio de síntomas|Fecha de muerte|Fecha de diagnóstico|Fecha de recuperación|Tipo de recuperación|Pertenencia étnica|Nombre del grupo étnico|\n",
            "+-------------------+----------+---------------------+----------------------------+-------------------+-------------------------+----------------+----+------------------------+----+----------------+------------------+------+-------------------+---------------+----------+---------------------------+---------------+--------------------+---------------------+--------------------+------------------+-----------------------+\n",
            "|2020-08-05 00:00:00|    338105|  2020-08-01 00:00:00|                           5|          ANTIOQUIA|                     5001|        MEDELLIN|  52|                       1|   M|     Comunitaria|              Casa|  Leve|               NULL|           NULL|Recuperado|        2020-07-30 00:00:00|           NULL| 2020-08-05 00:00:00|  2020-08-24 00:00:00|              Tiempo|                 5|                   NULL|\n",
            "|2020-11-08 00:00:00|   1137417|  2020-11-05 00:00:00|                           5|          ANTIOQUIA|                     5001|        MEDELLIN|  22|                       1|   M|     Comunitaria|              Casa|  Leve|               NULL|           NULL|Recuperado|        2020-10-31 00:00:00|           NULL| 2020-11-06 00:00:00|  2020-11-15 00:00:00|              Tiempo|                 6|                   NULL|\n",
            "|2020-11-08 00:00:00|   1137420|  2020-11-04 00:00:00|                           5|          ANTIOQUIA|                     5001|        MEDELLIN|  42|                       1|   F|     Comunitaria|              Casa|  Leve|               NULL|           NULL|Recuperado|        2020-10-31 00:00:00|           NULL| 2020-11-04 00:00:00|  2020-11-15 00:00:00|              Tiempo|                 6|                   NULL|\n",
            "|2020-11-08 00:00:00|   1137428|  2020-11-03 00:00:00|                           5|          ANTIOQUIA|                     5001|        MEDELLIN|  52|                       1|   F|     Comunitaria|              Casa|  Leve|               NULL|           NULL|Recuperado|        2020-10-31 00:00:00|           NULL| 2020-11-04 00:00:00|  2020-11-15 00:00:00|              Tiempo|                 6|                   NULL|\n",
            "|2020-08-05 00:00:00|    338071|  2020-08-03 00:00:00|                           5|          ANTIOQUIA|                     5001|        MEDELLIN|  60|                       1|   M|     Comunitaria|              Casa|  Leve|               NULL|           NULL|Recuperado|        2020-07-30 00:00:00|           NULL| 2020-08-04 00:00:00|  2020-08-24 00:00:00|              Tiempo|                 6|                   NULL|\n",
            "+-------------------+----------+---------------------+----------------------------+-------------------+-------------------------+----------------+----+------------------------+----+----------------+------------------+------+-------------------+---------------+----------+---------------------------+---------------+--------------------+---------------------+--------------------+------------------+-----------------------+\n",
            "only showing top 5 rows\n",
            "\n",
            "+-------------------+----------+---------------------+----------------------------+-------------------+-------------------------+----------------+----+------------------------+----+----------------+------------------+------+-------------------+---------------+----------+---------------------------+---------------+--------------------+---------------------+--------------------+------------------+-----------------------+\n",
            "|  fecha reporte web|ID de caso|Fecha de notificación|Código DIVIPOLA departamento|Nombre departamento|Código DIVIPOLA municipio|Nombre municipio|Edad|Unidad de medida de edad|Sexo|Tipo de contagio|Ubicación del caso|Estado|Código ISO del país|Nombre del país|Recuperado|Fecha de inicio de síntomas|Fecha de muerte|Fecha de diagnóstico|Fecha de recuperación|Tipo de recuperación|Pertenencia étnica|Nombre del grupo étnico|\n",
            "+-------------------+----------+---------------------+----------------------------+-------------------+-------------------------+----------------+----+------------------------+----+----------------+------------------+------+-------------------+---------------+----------+---------------------------+---------------+--------------------+---------------------+--------------------+------------------+-----------------------+\n",
            "|2020-11-08 00:00:00|   1137429|  2020-11-05 00:00:00|                           5|          ANTIOQUIA|                     5266|        ENVIGADO|  37|                       1|   F|     Comunitaria|              Casa|  Leve|               NULL|           NULL|Recuperado|        2020-10-31 00:00:00|           NULL| 2020-11-06 00:00:00|  2021-04-25 00:00:00|                 PCR|                 6|                   NULL|\n",
            "|2020-11-08 00:00:00|   1137433|  2020-11-04 00:00:00|                           5|          ANTIOQUIA|                     5266|        ENVIGADO|  37|                       1|   F|     Comunitaria|              Casa|  Leve|               NULL|           NULL|Recuperado|        2020-10-31 00:00:00|           NULL| 2020-11-04 00:00:00|  2020-11-15 00:00:00|              Tiempo|                 6|                   NULL|\n",
            "|2020-11-08 00:00:00|   1137446|  2020-11-05 00:00:00|                           5|          ANTIOQUIA|                     5266|        ENVIGADO|  63|                       1|   F|     Comunitaria|              Casa|  Leve|               NULL|           NULL|Recuperado|        2020-10-31 00:00:00|           NULL| 2020-11-06 00:00:00|  2020-11-15 00:00:00|              Tiempo|                 6|                   NULL|\n",
            "|2020-09-23 00:00:00|    781868|  2020-09-11 00:00:00|                           5|          ANTIOQUIA|                     5266|        ENVIGADO|  58|                       1|   F|     Relacionado|              Casa|  Leve|               NULL|           NULL|Recuperado|        2020-09-07 00:00:00|           NULL| 2020-09-22 00:00:00|  2020-09-27 00:00:00|              Tiempo|                 6|                   NULL|\n",
            "|2020-11-08 00:00:00|   1137704|  2020-11-03 00:00:00|                           5|          ANTIOQUIA|                     5266|        ENVIGADO|  19|                       1|   F|     Comunitaria|              Casa|  Leve|               NULL|           NULL|Recuperado|        2020-10-30 00:00:00|           NULL| 2020-11-06 00:00:00|  2020-11-14 00:00:00|              Tiempo|                 6|                   NULL|\n",
            "+-------------------+----------+---------------------+----------------------------+-------------------+-------------------------+----------------+----+------------------------+----+----------------+------------------+------+-------------------+---------------+----------+---------------------------+---------------+--------------------+---------------------+--------------------+------------------+-----------------------+\n",
            "only showing top 5 rows\n",
            "\n"
          ]
        }
      ]
    },
    {
      "cell_type": "markdown",
      "source": [
        "2.8 Ejecutar una función UDF sobre alguna columna (Edad) creando una nueva (Edad_grupo)"
      ],
      "metadata": {
        "id": "Gor1kmTIm265"
      }
    },
    {
      "cell_type": "code",
      "source": [
        "from pyspark.sql.functions import udf\n",
        "from pyspark.sql.types import StringType\n",
        "\n",
        "# Definir una UDF para categorizar edades\n",
        "def categorizar_edad(edad):\n",
        "    if edad < 18:\n",
        "        return 'Niño'\n",
        "    elif 18 <= edad < 45:\n",
        "        return 'Joven'\n",
        "    elif 45 <= edad < 65:\n",
        "        return 'Adulto'\n",
        "    else:\n",
        "        return 'Adulto Mayor'\n",
        "\n",
        "categorizar_edad_udf = udf(categorizar_edad, StringType())\n",
        "df_spark = df.withColumn('Edad_grupo', categorizar_edad_udf(df['Edad']))\n",
        "\n",
        "df_spark.select('Edad_grupo').show(5)\n"
      ],
      "metadata": {
        "id": "M6aInad4m-Xm",
        "colab": {
          "base_uri": "https://localhost:8080/"
        },
        "outputId": "804148bf-e271-4765-b344-5f96fdd7d12b"
      },
      "execution_count": 16,
      "outputs": [
        {
          "output_type": "stream",
          "name": "stdout",
          "text": [
            "+------------+\n",
            "|  Edad_grupo|\n",
            "+------------+\n",
            "|Adulto Mayor|\n",
            "|Adulto Mayor|\n",
            "|Adulto Mayor|\n",
            "|Adulto Mayor|\n",
            "|Adulto Mayor|\n",
            "+------------+\n",
            "only showing top 5 rows\n",
            "\n"
          ]
        }
      ]
    },
    {
      "cell_type": "markdown",
      "source": [
        "## 3. Preguntas de Negocio\n",
        "\n",
        "3.1 Departamentos con Más Casos de Covid en Colombia ordenados de mayor a menor"
      ],
      "metadata": {
        "id": "eIc4m6EcBmpw"
      }
    },
    {
      "cell_type": "code",
      "source": [
        "# Spark DataFrame API\n",
        "departamentos_mas_casos = df.groupBy('Nombre departamento').count().orderBy('count', ascending=False).limit(10)\n",
        "departamentos_mas_casos.show()\n",
        "\n",
        "# Spark SQL\n",
        "df.createOrReplaceTempView('covid_data')\n",
        "departamentos_mas_casos_sql = spark.sql(\"\"\"\n",
        "SELECT `Nombre departamento`, COUNT(*) as total\n",
        "FROM covid_data\n",
        "GROUP BY `Nombre departamento`\n",
        "ORDER BY total DESC\n",
        "LIMIT 10\n",
        "\"\"\")\n",
        "departamentos_mas_casos_sql.show()"
      ],
      "metadata": {
        "colab": {
          "base_uri": "https://localhost:8080/"
        },
        "id": "R_fcR0YPB7Bt",
        "outputId": "d9fdb437-3fcd-4d02-beab-c4d4dce8eabe"
      },
      "execution_count": 17,
      "outputs": [
        {
          "output_type": "stream",
          "name": "stdout",
          "text": [
            "+-------------------+------+\n",
            "|Nombre departamento| count|\n",
            "+-------------------+------+\n",
            "|             BOGOTA|658308|\n",
            "|          ANTIOQUIA|352813|\n",
            "|              VALLE|171008|\n",
            "|       CUNDINAMARCA|117111|\n",
            "|       BARRANQUILLA|112080|\n",
            "|          SANTANDER| 95906|\n",
            "|          ATLANTICO| 66023|\n",
            "|          CARTAGENA| 60560|\n",
            "|             CALDAS| 50222|\n",
            "|              CESAR| 48292|\n",
            "+-------------------+------+\n",
            "\n",
            "+-------------------+------+\n",
            "|Nombre departamento| total|\n",
            "+-------------------+------+\n",
            "|             BOGOTA|658308|\n",
            "|          ANTIOQUIA|352813|\n",
            "|              VALLE|171008|\n",
            "|       CUNDINAMARCA|117111|\n",
            "|       BARRANQUILLA|112080|\n",
            "|          SANTANDER| 95906|\n",
            "|          ATLANTICO| 66023|\n",
            "|          CARTAGENA| 60560|\n",
            "|             CALDAS| 50222|\n",
            "|              CESAR| 48292|\n",
            "+-------------------+------+\n",
            "\n"
          ]
        }
      ]
    },
    {
      "cell_type": "markdown",
      "source": [
        "3.2 Las 10 ciudades con más casos de covid en Colombia ordenados de mayor a menor"
      ],
      "metadata": {
        "id": "AegxCG3TCG1C"
      }
    },
    {
      "cell_type": "code",
      "source": [
        "# Spark DataFrame API\n",
        "ciudades_mas_casos = df.groupBy('Nombre municipio').count().orderBy('count', ascending=False).limit(10)\n",
        "ciudades_mas_casos.show()\n",
        "\n",
        "# Spark SQL\n",
        "ciudades_mas_casos_sql = spark.sql(\"\"\"\n",
        "SELECT `Nombre municipio`, COUNT(*) as total\n",
        "FROM covid_data\n",
        "GROUP BY `Nombre municipio`\n",
        "ORDER BY total DESC\n",
        "LIMIT 10\n",
        "\"\"\")\n",
        "ciudades_mas_casos_sql.show()"
      ],
      "metadata": {
        "colab": {
          "base_uri": "https://localhost:8080/"
        },
        "id": "wEWHCuRmCu0l",
        "outputId": "8c2b98ba-fae1-4060-b8c4-9709aff940f3"
      },
      "execution_count": 18,
      "outputs": [
        {
          "output_type": "stream",
          "name": "stdout",
          "text": [
            "+----------------+------+\n",
            "|Nombre municipio| count|\n",
            "+----------------+------+\n",
            "|          BOGOTA|658308|\n",
            "|        MEDELLIN|195405|\n",
            "|            CALI|115651|\n",
            "|    BARRANQUILLA|112080|\n",
            "|       CARTAGENA| 60560|\n",
            "|     BUCARAMANGA| 43798|\n",
            "|       MANIZALES| 35812|\n",
            "|      VALLEDUPAR| 34245|\n",
            "|     SANTA MARTA| 33666|\n",
            "|          IBAGUE| 32885|\n",
            "+----------------+------+\n",
            "\n",
            "+----------------+------+\n",
            "|Nombre municipio| total|\n",
            "+----------------+------+\n",
            "|          BOGOTA|658308|\n",
            "|        MEDELLIN|195405|\n",
            "|            CALI|115651|\n",
            "|    BARRANQUILLA|112080|\n",
            "|       CARTAGENA| 60560|\n",
            "|     BUCARAMANGA| 43798|\n",
            "|       MANIZALES| 35812|\n",
            "|      VALLEDUPAR| 34245|\n",
            "|     SANTA MARTA| 33666|\n",
            "|          IBAGUE| 32885|\n",
            "+----------------+------+\n",
            "\n"
          ]
        }
      ]
    },
    {
      "cell_type": "markdown",
      "source": [
        "3.3 Los 10 días con más casos de covid en Colombia ordenados de mayor a menor"
      ],
      "metadata": {
        "id": "SszTHYzKCYp7"
      }
    },
    {
      "cell_type": "code",
      "source": [
        "# Spark DataFrame API\n",
        "dias_mas_casos = df.groupBy('Fecha de diagnóstico').count().orderBy('count', ascending=False).limit(10)\n",
        "dias_mas_casos.show()\n",
        "\n",
        "# Spark SQL\n",
        "dias_mas_casos_sql = spark.sql(\"\"\"\n",
        "SELECT `Fecha de diagnóstico`, COUNT(*) as total\n",
        "FROM covid_data\n",
        "GROUP BY `Fecha de diagnóstico`\n",
        "ORDER BY total DESC\n",
        "LIMIT 10\n",
        "\"\"\")\n",
        "dias_mas_casos_sql.show()"
      ],
      "metadata": {
        "colab": {
          "base_uri": "https://localhost:8080/"
        },
        "id": "yaeIrVcEE_4i",
        "outputId": "bc79a7fb-d265-42d4-faf3-f7dd302dd49c"
      },
      "execution_count": 19,
      "outputs": [
        {
          "output_type": "stream",
          "name": "stdout",
          "text": [
            "+--------------------+-----+\n",
            "|Fecha de diagnóstico|count|\n",
            "+--------------------+-----+\n",
            "| 2021-06-02 00:00:00|27439|\n",
            "| 2021-06-03 00:00:00|26826|\n",
            "| 2021-06-01 00:00:00|24619|\n",
            "| 2021-05-26 00:00:00|24577|\n",
            "| 2021-06-04 00:00:00|24152|\n",
            "| 2021-05-24 00:00:00|24025|\n",
            "| 2021-05-25 00:00:00|23755|\n",
            "| 2021-05-27 00:00:00|23584|\n",
            "| 2021-05-28 00:00:00|23567|\n",
            "| 2021-05-31 00:00:00|23558|\n",
            "+--------------------+-----+\n",
            "\n",
            "+--------------------+-----+\n",
            "|Fecha de diagnóstico|total|\n",
            "+--------------------+-----+\n",
            "| 2021-06-02 00:00:00|27439|\n",
            "| 2021-06-03 00:00:00|26826|\n",
            "| 2021-06-01 00:00:00|24619|\n",
            "| 2021-05-26 00:00:00|24577|\n",
            "| 2021-06-04 00:00:00|24152|\n",
            "| 2021-05-24 00:00:00|24025|\n",
            "| 2021-05-25 00:00:00|23755|\n",
            "| 2021-05-27 00:00:00|23584|\n",
            "| 2021-05-28 00:00:00|23567|\n",
            "| 2021-05-31 00:00:00|23558|\n",
            "+--------------------+-----+\n",
            "\n"
          ]
        }
      ]
    },
    {
      "cell_type": "markdown",
      "source": [
        "3.4 Distribución de casos por edades de covid en Colombia"
      ],
      "metadata": {
        "id": "Zj4_9921Cbio"
      }
    },
    {
      "cell_type": "code",
      "source": [
        "# Spark DataFrame API\n",
        "casos_por_edad = df.groupBy('Edad').count().orderBy('Edad')\n",
        "casos_por_edad.show()\n",
        "\n",
        "# Spark SQL\n",
        "casos_por_edad_sql = spark.sql(\"\"\"\n",
        "SELECT Edad, COUNT(*) as total\n",
        "FROM covid_data\n",
        "GROUP BY Edad\n",
        "ORDER BY Edad\n",
        "\"\"\")\n",
        "casos_por_edad_sql.show()"
      ],
      "metadata": {
        "colab": {
          "base_uri": "https://localhost:8080/"
        },
        "id": "N9jaP1p1Fv4k",
        "outputId": "c535932e-d66d-4547-ba2b-4d13537617b3"
      },
      "execution_count": 20,
      "outputs": [
        {
          "output_type": "stream",
          "name": "stdout",
          "text": [
            "+----+-----+\n",
            "|Edad|count|\n",
            "+----+-----+\n",
            "|NULL|    4|\n",
            "|   1| 8021|\n",
            "|   2| 7282|\n",
            "|   3| 7263|\n",
            "|   4| 7658|\n",
            "|   5| 8173|\n",
            "|   6| 8582|\n",
            "|   7| 8501|\n",
            "|   8| 9636|\n",
            "|   9|10028|\n",
            "|  10|10659|\n",
            "|  11|11804|\n",
            "|  12|12237|\n",
            "|  13|13093|\n",
            "|  14|14315|\n",
            "|  15|15340|\n",
            "|  16|16517|\n",
            "|  17|18749|\n",
            "|  18|22887|\n",
            "|  19|29456|\n",
            "+----+-----+\n",
            "only showing top 20 rows\n",
            "\n",
            "+----+-----+\n",
            "|Edad|total|\n",
            "+----+-----+\n",
            "|NULL|    4|\n",
            "|   1| 8021|\n",
            "|   2| 7282|\n",
            "|   3| 7263|\n",
            "|   4| 7658|\n",
            "|   5| 8173|\n",
            "|   6| 8582|\n",
            "|   7| 8501|\n",
            "|   8| 9636|\n",
            "|   9|10028|\n",
            "|  10|10659|\n",
            "|  11|11804|\n",
            "|  12|12237|\n",
            "|  13|13093|\n",
            "|  14|14315|\n",
            "|  15|15340|\n",
            "|  16|16517|\n",
            "|  17|18749|\n",
            "|  18|22887|\n",
            "|  19|29456|\n",
            "+----+-----+\n",
            "only showing top 20 rows\n",
            "\n"
          ]
        }
      ]
    },
    {
      "cell_type": "markdown",
      "source": [
        "3.5 Pregunda de negocio: ¿Cuál es el promedio de edad de los casos recuperados?\n"
      ],
      "metadata": {
        "id": "tFQbD_jpChh4"
      }
    },
    {
      "cell_type": "code",
      "source": [
        "# Filtrar los casos recuperados\n",
        "casos_recuperados = df.filter(df['Tipo de recuperación'] != 'NULL')\n",
        "\n",
        "# Calcular el promedio de edad de los casos activos\n",
        "promedio_edad_recuperados = casos_recuperados.agg({'Edad': 'avg'})\n",
        "\n",
        "\n",
        "\n",
        "promedio_edad_recuperados.show()"
      ],
      "metadata": {
        "colab": {
          "base_uri": "https://localhost:8080/"
        },
        "id": "jJi8FkWQGyKn",
        "outputId": "3c77e89f-70dd-419d-9377-e964125684ca"
      },
      "execution_count": 21,
      "outputs": [
        {
          "output_type": "stream",
          "name": "stdout",
          "text": [
            "+------------------+\n",
            "|         avg(Edad)|\n",
            "+------------------+\n",
            "|38.981673922328746|\n",
            "+------------------+\n",
            "\n"
          ]
        }
      ]
    },
    {
      "cell_type": "markdown",
      "source": [
        "### 4. Almacenamiento de Resultados en un Bucke público de AWS S3\n"
      ],
      "metadata": {
        "id": "nErYwaHpHBqV"
      }
    },
    {
      "cell_type": "code",
      "source": [
        "# 3.1 Departamentos con Más Casos de Covid en Colombia ordenados de mayor a menor\n",
        "departamentos_mas_casos.write.csv('s3a://tbernalz-p3/dataset_covid_colombia/departamentos_mas_casos.csv', header=True)\n",
        "\n",
        "# 3.2 Las 10 ciudades con más casos de covid en Colombia ordenados de mayor a menor\n",
        "ciudades_mas_casos.write.csv('s3a://tbernalz-p3/dataset_covid_colombia/ciudades_mas_casos.csv', header=True)\n",
        "\n",
        "# 3.3 Los 10 días con más casos de covid en Colombia ordenados de mayor a menor\n",
        "dias_mas_casos.write.csv('s3a://tbernalz-p3/dataset_covid_colombia/dias_mas_casos.csv', header=True)\n",
        "\n",
        "# 3.4 Distribución de casos por edades de covid en Colombia\n",
        "casos_por_edad.write.csv('s3a://tbernalz-p3/dataset_covid_colombia/casos_por_edad.csv', header=True)\n",
        "\n",
        "# 3.5 Pregunda de negocio: ¿Cuál es el promedio de edad de los casos recuperados?\n",
        "promedio_edad_recuperados.write.csv('s3a://tbernalz-p3/dataset_covid_colombia/promedio_edad_recuperados.csv', header=True)"
      ],
      "metadata": {
        "id": "0jnF91vzIoYQ"
      },
      "execution_count": 25,
      "outputs": []
    },
    {
      "cell_type": "markdown",
      "source": [
        "## Conclusión\n",
        "\n",
        "En este proyecto se realizó un análisis detallado de los datos de COVID-19 en Colombia utilizando PySpark. Se almacenaron los datos en AWS S3 y Google Drive, se llevó a cabo un análisis exploratorio de datos y se respondieron preguntas de negocio utilizando tanto la API de DataFrame de Spark como SparkSQL. Finalmente, los resultados se almacenaron en AWS S3 para su posterior análisis y consulta.\n",
        "\n"
      ],
      "metadata": {
        "id": "B0teYK9hma8D"
      }
    },
    {
      "cell_type": "markdown",
      "source": [
        "## Referencias\n",
        "\n",
        "https://www.oreilly.com/library/view/learning-spark-2nd/9781492050032/ch04.html\n",
        "\n",
        "https://www.datos.gov.co/api/views/gt2j-8ykr/rows.csv?accessType=DOWNLOAD"
      ],
      "metadata": {
        "id": "CLEnGQHHmjsY"
      }
    }
  ]
}